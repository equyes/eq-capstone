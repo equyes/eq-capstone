{
    "cells": [
        {
            "cell_type": "markdown",
            "metadata": {
                "collapsed": true
            },
            "source": "Analyzing the Tourism of NSW, Australia and identify the restaurant business potential\nEmrul Quyes\nDecember 2019\n1.\tIntroduction\n\n1.1\tBackground\nTourism is a valuable contributor to NSW\u2019s economy in Australia. In 2017\u201318, tourism industry contributed more than 17 billion to NSW economy and created employment for more than 180K people. Together with indirect impacts, the industry's total contribution to the economy reached an estimated 35.6 \ud835\udc4f\ud835\udc56\ud835\udc59\ud835\udc59\ud835\udc56\ud835\udc5c\ud835\udc5b. Chinese tourists spent 12 billion while in Australia in 2018. The main purpose for travelling to Australia was for holidays. More than 770,000 visitors came to Australia for holiday purposes. The most popular destinations were Sydney with 57 of visitors. Chinese visitors spent an average of 43 nights in Australia. As most of the tourists are coming from China, I would like to analyse how many Chinese restaurants are currently available in Sydney city and is there any opportunity to establish new Chinese restaurant in Sydney near to city. Now if anyone wants to start a new Chinese restaurant in Sydney?\n\n1.2\tProblem\nIn this project I tried to identify which NSW regions are contributing more in tourism sector. What types of restaurant businesses can attract more tourists and if anyone wants to start a new business then what types of business needs to be focused on based on tourist attraction. Briefly my project will answer the questions below: \n\u2022 Which attractions are contributing more in NSW economy and in which area? \n\u2022 How many Chinese restaurants near to Sydney City? \n\u2022 If any tourist want to go to Chinese restaurant then how many is closer to city?\n\n1.3\tTarget Audience:\nMy project would be most successfully used by people who want to start a new restaurant in Sydney.\n\n2.\tData acquisition and cleaning\n2.1\tData sources\nFollowing sources have been used to analyze for this project:\nhttps://www.destinationnsw.com.au/tourism/facts-and-figures/reports-and-presentations\n\nhttps://www.budgetdirect.com.au/travel-insurance/research/tourism-statistics.html\n2.2\tData cleaning\n\tThere are several problems in data sets. Required to fix the headings and then few data were missing in few rows which have been fixed at this stage.\nBefore cleaning data, it was as shown below:\n \n\nAfter fixing all the issue, the final data set is:\n \n3.\tExploratory Data Analysis\n3.1\tFrom the analysis, it has been found that Sydney is the highest contributor in NSW economy in tourism sector. Top six countries people visit Australia from are: China, New Zealand, USA, UK, Japan and Singapore.\n\n \nChinese tourists spent $12 billion while in Australia in 2018. The main purpose for travelling to Australia was for holidays. 1.43 mil people from China visited Australia in 2018. The most popular destinations were Sydney with 57%, Melbourne with 51%, and Brisbane with 20% of visitors. Chinese visitors spent an average of 43 nights in Australia. China has a population of 1.38 billion people meaning that less than 1% of their population visited Australia in 2018.\n3.2\tAs most of the tourists are coming from China, there are a possibility to start new Chinese restaurants in Sydney if there is not enough restaurant in city. Then find the out the details of Chinese restaurants which are available in city.\n3.3\tOnly one Chinese restaurant found near to Sydney city.\n \n\n\n4.\tConclusion\nAs there is only one Chinese restaurant found in Sydney city and almost 57% visitors are coming to Sydney, there is a great potential to establish new Chinese restaurant in Sydney which could be demandable for the visitors.\n\n"
        },
        {
            "cell_type": "code",
            "execution_count": null,
            "metadata": {},
            "outputs": [],
            "source": ""
        }
    ],
    "metadata": {
        "kernelspec": {
            "display_name": "Python 3.6",
            "language": "python",
            "name": "python3"
        },
        "language_info": {
            "codemirror_mode": {
                "name": "ipython",
                "version": 3
            },
            "file_extension": ".py",
            "mimetype": "text/x-python",
            "name": "python",
            "nbconvert_exporter": "python",
            "pygments_lexer": "ipython3",
            "version": "3.6.8"
        }
    },
    "nbformat": 4,
    "nbformat_minor": 1
}